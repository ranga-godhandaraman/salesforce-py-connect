{
  "nbformat": 4,
  "nbformat_minor": 0,
  "metadata": {
    "colab": {
      "provenance": [],
      "authorship_tag": "ABX9TyNBC2rLOzpjADEvBbi1rbw8",
      "include_colab_link": true
    },
    "kernelspec": {
      "name": "python3",
      "display_name": "Python 3"
    },
    "language_info": {
      "name": "python"
    }
  },
  "cells": [
    {
      "cell_type": "markdown",
      "metadata": {
        "id": "view-in-github",
        "colab_type": "text"
      },
      "source": [
        "<a href=\"https://colab.research.google.com/github/ranga-godhandaraman/salesforce-py-connect/blob/main/salesforce_py_connect.ipynb\" target=\"_parent\"><img src=\"https://colab.research.google.com/assets/colab-badge.svg\" alt=\"Open In Colab\"/></a>"
      ]
    },
    {
      "cell_type": "markdown",
      "source": [
        "## Install SalesForce"
      ],
      "metadata": {
        "id": "Z-JoYcNB0ejV"
      }
    },
    {
      "cell_type": "code",
      "execution_count": 1,
      "metadata": {
        "colab": {
          "base_uri": "https://localhost:8080/"
        },
        "id": "-axUW4baz--j",
        "outputId": "5e589317-7873-4c6e-ef92-b956da1ac011"
      },
      "outputs": [
        {
          "output_type": "stream",
          "name": "stdout",
          "text": [
            "Collecting simple_salesforce\n",
            "  Downloading simple_salesforce-1.12.6-py2.py3-none-any.whl (132 kB)\n",
            "\u001b[2K     \u001b[90m━━━━━━━━━━━━━━━━━━━━━━━━━━━━━━━━━━━━━━━━\u001b[0m \u001b[32m132.2/132.2 kB\u001b[0m \u001b[31m2.3 MB/s\u001b[0m eta \u001b[36m0:00:00\u001b[0m\n",
            "\u001b[?25hRequirement already satisfied: requests>=2.22.0 in /usr/local/lib/python3.10/dist-packages (from simple_salesforce) (2.31.0)\n",
            "Requirement already satisfied: typing-extensions in /usr/local/lib/python3.10/dist-packages (from simple_salesforce) (4.11.0)\n",
            "Collecting zeep (from simple_salesforce)\n",
            "  Downloading zeep-4.2.1-py3-none-any.whl (101 kB)\n",
            "\u001b[2K     \u001b[90m━━━━━━━━━━━━━━━━━━━━━━━━━━━━━━━━━━━━━━━━\u001b[0m \u001b[32m101.2/101.2 kB\u001b[0m \u001b[31m9.2 MB/s\u001b[0m eta \u001b[36m0:00:00\u001b[0m\n",
            "\u001b[?25hRequirement already satisfied: pyjwt[crypto] in /usr/lib/python3/dist-packages (from simple_salesforce) (2.3.0)\n",
            "Requirement already satisfied: more-itertools in /usr/local/lib/python3.10/dist-packages (from simple_salesforce) (10.1.0)\n",
            "Requirement already satisfied: charset-normalizer<4,>=2 in /usr/local/lib/python3.10/dist-packages (from requests>=2.22.0->simple_salesforce) (3.3.2)\n",
            "Requirement already satisfied: idna<4,>=2.5 in /usr/local/lib/python3.10/dist-packages (from requests>=2.22.0->simple_salesforce) (3.7)\n",
            "Requirement already satisfied: urllib3<3,>=1.21.1 in /usr/local/lib/python3.10/dist-packages (from requests>=2.22.0->simple_salesforce) (2.0.7)\n",
            "Requirement already satisfied: certifi>=2017.4.17 in /usr/local/lib/python3.10/dist-packages (from requests>=2.22.0->simple_salesforce) (2024.2.2)\n",
            "Requirement already satisfied: cryptography>=3.3.1 in /usr/local/lib/python3.10/dist-packages (from pyjwt[crypto]->simple_salesforce) (42.0.7)\n",
            "Requirement already satisfied: attrs>=17.2.0 in /usr/local/lib/python3.10/dist-packages (from zeep->simple_salesforce) (23.2.0)\n",
            "Collecting isodate>=0.5.4 (from zeep->simple_salesforce)\n",
            "  Downloading isodate-0.6.1-py2.py3-none-any.whl (41 kB)\n",
            "\u001b[2K     \u001b[90m━━━━━━━━━━━━━━━━━━━━━━━━━━━━━━━━━━━━━━━━\u001b[0m \u001b[32m41.7/41.7 kB\u001b[0m \u001b[31m1.6 MB/s\u001b[0m eta \u001b[36m0:00:00\u001b[0m\n",
            "\u001b[?25hRequirement already satisfied: lxml>=4.6.0 in /usr/local/lib/python3.10/dist-packages (from zeep->simple_salesforce) (4.9.4)\n",
            "Requirement already satisfied: platformdirs>=1.4.0 in /usr/local/lib/python3.10/dist-packages (from zeep->simple_salesforce) (4.2.2)\n",
            "Collecting requests-toolbelt>=0.7.1 (from zeep->simple_salesforce)\n",
            "  Downloading requests_toolbelt-1.0.0-py2.py3-none-any.whl (54 kB)\n",
            "\u001b[2K     \u001b[90m━━━━━━━━━━━━━━━━━━━━━━━━━━━━━━━━━━━━━━━━\u001b[0m \u001b[32m54.5/54.5 kB\u001b[0m \u001b[31m3.1 MB/s\u001b[0m eta \u001b[36m0:00:00\u001b[0m\n",
            "\u001b[?25hCollecting requests-file>=1.5.1 (from zeep->simple_salesforce)\n",
            "  Downloading requests_file-2.1.0-py2.py3-none-any.whl (4.2 kB)\n",
            "Requirement already satisfied: pytz in /usr/local/lib/python3.10/dist-packages (from zeep->simple_salesforce) (2023.4)\n",
            "Requirement already satisfied: cffi>=1.12 in /usr/local/lib/python3.10/dist-packages (from cryptography>=3.3.1->pyjwt[crypto]->simple_salesforce) (1.16.0)\n",
            "Requirement already satisfied: six in /usr/local/lib/python3.10/dist-packages (from isodate>=0.5.4->zeep->simple_salesforce) (1.16.0)\n",
            "Requirement already satisfied: pycparser in /usr/local/lib/python3.10/dist-packages (from cffi>=1.12->cryptography>=3.3.1->pyjwt[crypto]->simple_salesforce) (2.22)\n",
            "Installing collected packages: isodate, requests-toolbelt, requests-file, zeep, simple_salesforce\n",
            "Successfully installed isodate-0.6.1 requests-file-2.1.0 requests-toolbelt-1.0.0 simple_salesforce-1.12.6 zeep-4.2.1\n"
          ]
        }
      ],
      "source": [
        "!pip install simple_salesforce"
      ]
    },
    {
      "cell_type": "markdown",
      "source": [
        "## Import SalesForce"
      ],
      "metadata": {
        "id": "S_b_VmeF0inb"
      }
    },
    {
      "cell_type": "code",
      "source": [
        "from simple_salesforce import Salesforce"
      ],
      "metadata": {
        "id": "TUB7NUyc0Ifr"
      },
      "execution_count": 2,
      "outputs": []
    },
    {
      "cell_type": "markdown",
      "source": [
        "## Connect to Salesforce"
      ],
      "metadata": {
        "id": "1LbQ-s4-0mE2"
      }
    },
    {
      "cell_type": "code",
      "source": [
        "sf = Salesforce(username='rangakamala22-sldj@force.com', password='Kamala@143', consumer_key='3MVG9Kr5_mB04D163TK82DguqZxFKbMmPRvr0XpieJEJBsI.T9od7MALKYPUB8T24jj43akV2eOCaf4rK6.U0', consumer_secret='137085CFE70775307623FFBCA72998FCA704244943C7862601336F1DA995EDC3')"
      ],
      "metadata": {
        "id": "5CmaJ5r_4FpA"
      },
      "execution_count": 8,
      "outputs": []
    },
    {
      "cell_type": "markdown",
      "source": [
        "## Query"
      ],
      "metadata": {
        "id": "VD5BA2gd1fzH"
      }
    },
    {
      "cell_type": "code",
      "source": [
        "query_result = sf.query('SELECT Id, Name FROM Account LIMIT 5')\n",
        "\n",
        "for record in query_result['records']:\n",
        "\n",
        "  print (f\"Account ID: {record['Id']}, Name: {record['Name']}\")\n",
        "\n"
      ],
      "metadata": {
        "colab": {
          "base_uri": "https://localhost:8080/"
        },
        "id": "2-zG_xjL0Ip3",
        "outputId": "34b001f8-ff24-4574-c785-2611b8a1ac0d"
      },
      "execution_count": 10,
      "outputs": [
        {
          "output_type": "stream",
          "name": "stdout",
          "text": [
            "Account ID: 001F900001kfWevIAE, Name: qhjegbcfkjq\n"
          ]
        }
      ]
    },
    {
      "cell_type": "code",
      "source": [],
      "metadata": {
        "id": "38n3hXR_0Ise"
      },
      "execution_count": null,
      "outputs": []
    },
    {
      "cell_type": "code",
      "source": [],
      "metadata": {
        "id": "8-J6Wl6M0Iu_"
      },
      "execution_count": null,
      "outputs": []
    },
    {
      "cell_type": "code",
      "source": [],
      "metadata": {
        "id": "_yhMpkWB0IxY"
      },
      "execution_count": null,
      "outputs": []
    },
    {
      "cell_type": "code",
      "source": [],
      "metadata": {
        "id": "FOmY8ZZ80I0S"
      },
      "execution_count": null,
      "outputs": []
    },
    {
      "cell_type": "code",
      "source": [],
      "metadata": {
        "id": "apzpe8UH0I3H"
      },
      "execution_count": null,
      "outputs": []
    }
  ]
}